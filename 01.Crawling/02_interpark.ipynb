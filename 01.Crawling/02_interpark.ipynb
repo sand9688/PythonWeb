{
  "nbformat": 4,
  "nbformat_minor": 0,
  "metadata": {
    "colab": {
      "name": "02_interpark.ipynb",
      "provenance": [],
      "collapsed_sections": []
    },
    "kernelspec": {
      "name": "python3",
      "display_name": "Python 3"
    },
    "language_info": {
      "name": "python"
    }
  },
  "cells": [
    {
      "cell_type": "markdown",
      "source": [
        "###인터파크 베스트 셀러 도시 정보\n"
      ],
      "metadata": {
        "id": "x5qYDMOpusd5"
      }
    },
    {
      "cell_type": "code",
      "execution_count": 6,
      "metadata": {
        "id": "ur5ic-8quof6"
      },
      "outputs": [],
      "source": [
        "import requests\n",
        "url = 'http://book.interpark.com/display/collectlist.do?_method=bestsellerHourNew&bookblockname=b_gnb&booklinkname=%BA%A3%BD%BA%C6%AE%C1%B8&bid1=w_bgnb&bid2=LiveRanking&bid3=main&bid4=001'\n",
        "req= requests.get(url)"
      ]
    },
    {
      "cell_type": "code",
      "source": [
        "from bs4 import BeautifulSoup\n",
        "soup = BeautifulSoup(req.text,'html.parser')"
      ],
      "metadata": {
        "id": "of__E-c8v2so"
      },
      "execution_count": 3,
      "outputs": []
    },
    {
      "cell_type": "markdown",
      "source": [
        "### Step 1. 찾고자 하는 목록들을 가져온다.(list계열의 li, 테이블 계열의 tr)"
      ],
      "metadata": {
        "id": "KeoiL6tzzJQZ"
      }
    },
    {
      "cell_type": "code",
      "source": [
        "lis= soup.find_all('li')\n",
        "len(lis)"
      ],
      "metadata": {
        "colab": {
          "base_uri": "https://localhost:8080/"
        },
        "id": "l5AhndxHwHSG",
        "outputId": "d0fd8b08-0cc4-4bc1-fe68-86498dcb55a8"
      },
      "execution_count": 13,
      "outputs": [
        {
          "output_type": "execute_result",
          "data": {
            "text/plain": [
              "3532"
            ]
          },
          "metadata": {},
          "execution_count": 13
        }
      ]
    },
    {
      "cell_type": "code",
      "source": [
        "#15개의 \n",
        "lis1= soup.select_one('.rankBestContentList').find_all('li')\n",
        "len(lis1)"
      ],
      "metadata": {
        "colab": {
          "base_uri": "https://localhost:8080/"
        },
        "id": "lk8gKW_Txabu",
        "outputId": "8ce238d8-4cbc-4724-ea99-16920d27c453"
      },
      "execution_count": 16,
      "outputs": [
        {
          "output_type": "execute_result",
          "data": {
            "text/plain": [
              "58"
            ]
          },
          "metadata": {},
          "execution_count": 16
        }
      ]
    },
    {
      "cell_type": "code",
      "source": [
        "#ol 태그의 자식 태그 li 만 찾아주는 방법\n",
        "lis2= soup.select_one('.rankBestContentList').find_all('ol > li')\n",
        "len(lis2)"
      ],
      "metadata": {
        "colab": {
          "base_uri": "https://localhost:8080/"
        },
        "id": "4rm3wr1fx9pY",
        "outputId": "63ecdc33-23f1-49af-c597-c87966a69960"
      },
      "execution_count": 15,
      "outputs": [
        {
          "output_type": "execute_result",
          "data": {
            "text/plain": [
              "0"
            ]
          },
          "metadata": {},
          "execution_count": 15
        }
      ]
    },
    {
      "cell_type": "code",
      "source": [
        "lis3= soup.select('.rankBestContentList > ol > li')\n",
        "len(lis3)"
      ],
      "metadata": {
        "colab": {
          "base_uri": "https://localhost:8080/"
        },
        "id": "YhJehWHzyYZ2",
        "outputId": "f845affc-cb0c-43ed-c1db-ca45c6ba9d52"
      },
      "execution_count": 19,
      "outputs": [
        {
          "output_type": "execute_result",
          "data": {
            "text/plain": [
              "15"
            ]
          },
          "metadata": {},
          "execution_count": 19
        }
      ]
    },
    {
      "cell_type": "markdown",
      "source": [
        "###step 2. 목록들 중에 하나를 선택해 세부 내용을 가져온다."
      ],
      "metadata": {
        "id": "G3QXHpqD24Wo"
      }
    },
    {
      "cell_type": "code",
      "source": [
        "li=lis3[13]"
      ],
      "metadata": {
        "id": "dcsZ35up2sgX"
      },
      "execution_count": 42,
      "outputs": []
    },
    {
      "cell_type": "code",
      "source": [
        "#책 제목\n",
        "title = li.select_one('.itemName').get_text().strip()\n",
        "title "
      ],
      "metadata": {
        "colab": {
          "base_uri": "https://localhost:8080/",
          "height": 36
        },
        "id": "pG-4WJRv3INj",
        "outputId": "83a23da6-09d4-47e3-b810-24616d693085"
      },
      "execution_count": 43,
      "outputs": [
        {
          "output_type": "execute_result",
          "data": {
            "text/plain": [
              "'예쁘게 말하는 네가 좋다'"
            ],
            "application/vnd.google.colaboratory.intrinsic+json": {
              "type": "string"
            }
          },
          "metadata": {},
          "execution_count": 43
        }
      ]
    },
    {
      "cell_type": "code",
      "source": [
        "#저자\n",
        "author = li.select_one('.author').get_text().strip()\n",
        "author"
      ],
      "metadata": {
        "colab": {
          "base_uri": "https://localhost:8080/",
          "height": 36
        },
        "id": "IfsWuYZ63llo",
        "outputId": "756e5d5f-1059-495f-ace1-93c3592f192c"
      },
      "execution_count": 44,
      "outputs": [
        {
          "output_type": "execute_result",
          "data": {
            "text/plain": [
              "'김범준'"
            ],
            "application/vnd.google.colaboratory.intrinsic+json": {
              "type": "string"
            }
          },
          "metadata": {},
          "execution_count": 44
        }
      ]
    },
    {
      "cell_type": "code",
      "source": [
        "#출판사\n",
        "company = li.select_one('.company').get_text().strip()\n",
        "company"
      ],
      "metadata": {
        "colab": {
          "base_uri": "https://localhost:8080/",
          "height": 36
        },
        "id": "bhODX_CA362r",
        "outputId": "06d260a6-47af-43e6-f1e8-8971dbd45a31"
      },
      "execution_count": 45,
      "outputs": [
        {
          "output_type": "execute_result",
          "data": {
            "text/plain": [
              "'포레스트북스'"
            ],
            "application/vnd.google.colaboratory.intrinsic+json": {
              "type": "string"
            }
          },
          "metadata": {},
          "execution_count": 45
        }
      ]
    },
    {
      "cell_type": "code",
      "source": [
        "price = li.select_one('.price > em').get_text().strip()\n",
        "price = int(price.replace(',',''))\n",
        "price"
      ],
      "metadata": {
        "colab": {
          "base_uri": "https://localhost:8080/"
        },
        "id": "K6Gr_6o54SZc",
        "outputId": "cdcbed12-af02-429c-eac8-8f6a8b486d07"
      },
      "execution_count": 46,
      "outputs": [
        {
          "output_type": "execute_result",
          "data": {
            "text/plain": [
              "14220"
            ]
          },
          "metadata": {},
          "execution_count": 46
        }
      ]
    },
    {
      "cell_type": "code",
      "source": [
        "rank_spans = li.select('.rankBtn_ctrl')\n",
        "rank_spans"
      ],
      "metadata": {
        "colab": {
          "base_uri": "https://localhost:8080/"
        },
        "id": "fGLo7ndX4jum",
        "outputId": "de788362-197f-4d75-9a40-3bdeaadb9cf1"
      },
      "execution_count": 47,
      "outputs": [
        {
          "output_type": "execute_result",
          "data": {
            "text/plain": [
              "[<span class=\"rankBtn_ctrl rkNum_M01 \"></span>,\n",
              " <span class=\"rankBtn_ctrl rkNum_M04 \"></span>]"
            ]
          },
          "metadata": {},
          "execution_count": 47
        }
      ]
    },
    {
      "cell_type": "code",
      "source": [
        "for span in rank_spans:\n",
        "  print(span['class'][1][-1])"
      ],
      "metadata": {
        "colab": {
          "base_uri": "https://localhost:8080/"
        },
        "id": "MC-O5vAH6Eq7",
        "outputId": "b4070792-a765-4ba5-8307-c01dfb2c2df9"
      },
      "execution_count": 48,
      "outputs": [
        {
          "output_type": "stream",
          "name": "stdout",
          "text": [
            "1\n",
            "4\n"
          ]
        }
      ]
    },
    {
      "cell_type": "code",
      "source": [
        "rank =''\n",
        "for span in rank_spans:\n",
        "  rank += span['class'][1][-1]\n",
        "rank"
      ],
      "metadata": {
        "colab": {
          "base_uri": "https://localhost:8080/",
          "height": 36
        },
        "id": "pUVEnoBH6b9l",
        "outputId": "d80be81b-5164-4650-c757-f81f0c24d18f"
      },
      "execution_count": 49,
      "outputs": [
        {
          "output_type": "execute_result",
          "data": {
            "text/plain": [
              "'14'"
            ],
            "application/vnd.google.colaboratory.intrinsic+json": {
              "type": "string"
            }
          },
          "metadata": {},
          "execution_count": 49
        }
      ]
    },
    {
      "cell_type": "markdown",
      "source": [
        "### Step 3. 모든 목록에 대해서 세부 정보를 가져와서 데이터 프레임으로 만든다\n",
        "\n"
      ],
      "metadata": {
        "id": "oowrHlhg71I-"
      }
    },
    {
      "cell_type": "code",
      "source": [
        "import pandas as pd\n"
      ],
      "metadata": {
        "id": "LOBJme_370fH"
      },
      "execution_count": 50,
      "outputs": []
    },
    {
      "cell_type": "code",
      "source": [
        "lines = []\n",
        "for li in lis3:\n",
        "  title = li.select_one('.itemName').get_text().strip()\n",
        "  author = li.select_one('.author').get_text().strip()\n",
        "  company = li.select_one('.company').get_text().strip()\n",
        "  price = li.select_one('.price > em').get_text().strip()\n",
        "  price = int(price.replace(',',''))\n",
        "  rank =''\n",
        "  rank_spans = li.select('.rankBtn_ctrl')\n",
        "  for span in rank_spans:\n",
        "    rank += span['class'][1][-1]\n",
        "  rank= int(rank)\n",
        "  lines.append([rank, title, author, company, price])"
      ],
      "metadata": {
        "id": "v3igjvoc7DLJ"
      },
      "execution_count": 57,
      "outputs": []
    },
    {
      "cell_type": "code",
      "source": [
        "#어디서 에러가 발생했는지 알고 싶은 경우\n",
        "lines = []\n",
        "for i,li in enumerate(lis3):\n",
        "  try:\n",
        "    title = li.select_one('.itemName').get_text().strip()\n",
        "    author = li.select_one('.author').get_text().strip()\n",
        "    company = li.select_one('.company').get_text().strip()\n",
        "    price = li.select_one('.price > em').get_text().strip()\n",
        "    price = int(price.replace(',',''))\n",
        "    rank =''\n",
        "    rank_spans = li.select('.rankBtn_ctrl')\n",
        "    for span in rank_spans:\n",
        "      rank += span['class'][1][-1]\n",
        "    rank= int(rank)\n",
        "    lines.append([rank, title, author, company, price])\n",
        "  except:\n",
        "    print(i)"
      ],
      "metadata": {
        "id": "YF2gbbIs9AX4"
      },
      "execution_count": 58,
      "outputs": []
    },
    {
      "cell_type": "code",
      "source": [
        "df = pd.DataFrame(lines, columns=['순위','제목','저자','출판사','가격'])\n",
        "df"
      ],
      "metadata": {
        "colab": {
          "base_uri": "https://localhost:8080/",
          "height": 520
        },
        "id": "7pFUY5-C9XFT",
        "outputId": "1f89cddc-65ef-43d8-8ce6-edd3ce6e0649"
      },
      "execution_count": 59,
      "outputs": [
        {
          "output_type": "execute_result",
          "data": {
            "text/plain": [
              "    순위                                 제목                         저자      출판사  \\\n",
              "0    1                                하얼빈                     김훈(金薰)     문학동네   \n",
              "1    2                    미래의 부를 위한 투자 공부                        신진상     미디어숲   \n",
              "2    3                          불편한 편의점 2                        김호연    나무옆의자   \n",
              "3    4                          계속 가보겠습니다                        임은정   메디치미디어   \n",
              "4    4            불편한 편의점(40만부 기념 벚꽃 에디션)                        김호연    나무옆의자   \n",
              "5    6                             가불 선진국                         조국   메디치미디어   \n",
              "6    7                          헤어질 결심 각본                   정서경, 박찬욱    을유문화사   \n",
              "7    8                              파친코 1                  이민진/신승미 역    인플루엔셜   \n",
              "8    8                     아직 긴 인생이 남았습니다        기시미 이치로(岸見一郞)/전경아 역   한국경제신문   \n",
              "9   10           마법천자문 53: 결정을 내리다! 결단할 결          유대영/홍거북 그림/김창환 감수      아울북   \n",
              "10  10  한 개의 기쁨이 천 개의 슬픔을 이긴다: 삶과 태도에 관하여                        조우성      서삼독   \n",
              "11  10                            눈물 한 방울                   이어령(李御寧)      김영사   \n",
              "12  10                                역행자                         자청  웅진지식하우스   \n",
              "13  14                      예쁘게 말하는 네가 좋다                        김범준   포레스트북스   \n",
              "14  14                            흔한남매 11  흔한남매, 백난도/유난희 그림/흔한컴퍼니 감수  미래엔아이세움   \n",
              "\n",
              "       가격  \n",
              "0   14400  \n",
              "1   16020  \n",
              "2   12600  \n",
              "3   16200  \n",
              "4   12600  \n",
              "5   14400  \n",
              "6   13500  \n",
              "7   14220  \n",
              "8   14400  \n",
              "9   12600  \n",
              "10  13320  \n",
              "11  14220  \n",
              "12  15750  \n",
              "13  14220  \n",
              "14  13050  "
            ],
            "text/html": [
              "\n",
              "  <div id=\"df-38d370e4-9655-41c9-b88e-e24edb13ae28\">\n",
              "    <div class=\"colab-df-container\">\n",
              "      <div>\n",
              "<style scoped>\n",
              "    .dataframe tbody tr th:only-of-type {\n",
              "        vertical-align: middle;\n",
              "    }\n",
              "\n",
              "    .dataframe tbody tr th {\n",
              "        vertical-align: top;\n",
              "    }\n",
              "\n",
              "    .dataframe thead th {\n",
              "        text-align: right;\n",
              "    }\n",
              "</style>\n",
              "<table border=\"1\" class=\"dataframe\">\n",
              "  <thead>\n",
              "    <tr style=\"text-align: right;\">\n",
              "      <th></th>\n",
              "      <th>순위</th>\n",
              "      <th>제목</th>\n",
              "      <th>저자</th>\n",
              "      <th>출판사</th>\n",
              "      <th>가격</th>\n",
              "    </tr>\n",
              "  </thead>\n",
              "  <tbody>\n",
              "    <tr>\n",
              "      <th>0</th>\n",
              "      <td>1</td>\n",
              "      <td>하얼빈</td>\n",
              "      <td>김훈(金薰)</td>\n",
              "      <td>문학동네</td>\n",
              "      <td>14400</td>\n",
              "    </tr>\n",
              "    <tr>\n",
              "      <th>1</th>\n",
              "      <td>2</td>\n",
              "      <td>미래의 부를 위한 투자 공부</td>\n",
              "      <td>신진상</td>\n",
              "      <td>미디어숲</td>\n",
              "      <td>16020</td>\n",
              "    </tr>\n",
              "    <tr>\n",
              "      <th>2</th>\n",
              "      <td>3</td>\n",
              "      <td>불편한 편의점 2</td>\n",
              "      <td>김호연</td>\n",
              "      <td>나무옆의자</td>\n",
              "      <td>12600</td>\n",
              "    </tr>\n",
              "    <tr>\n",
              "      <th>3</th>\n",
              "      <td>4</td>\n",
              "      <td>계속 가보겠습니다</td>\n",
              "      <td>임은정</td>\n",
              "      <td>메디치미디어</td>\n",
              "      <td>16200</td>\n",
              "    </tr>\n",
              "    <tr>\n",
              "      <th>4</th>\n",
              "      <td>4</td>\n",
              "      <td>불편한 편의점(40만부 기념 벚꽃 에디션)</td>\n",
              "      <td>김호연</td>\n",
              "      <td>나무옆의자</td>\n",
              "      <td>12600</td>\n",
              "    </tr>\n",
              "    <tr>\n",
              "      <th>5</th>\n",
              "      <td>6</td>\n",
              "      <td>가불 선진국</td>\n",
              "      <td>조국</td>\n",
              "      <td>메디치미디어</td>\n",
              "      <td>14400</td>\n",
              "    </tr>\n",
              "    <tr>\n",
              "      <th>6</th>\n",
              "      <td>7</td>\n",
              "      <td>헤어질 결심 각본</td>\n",
              "      <td>정서경, 박찬욱</td>\n",
              "      <td>을유문화사</td>\n",
              "      <td>13500</td>\n",
              "    </tr>\n",
              "    <tr>\n",
              "      <th>7</th>\n",
              "      <td>8</td>\n",
              "      <td>파친코 1</td>\n",
              "      <td>이민진/신승미 역</td>\n",
              "      <td>인플루엔셜</td>\n",
              "      <td>14220</td>\n",
              "    </tr>\n",
              "    <tr>\n",
              "      <th>8</th>\n",
              "      <td>8</td>\n",
              "      <td>아직 긴 인생이 남았습니다</td>\n",
              "      <td>기시미 이치로(岸見一郞)/전경아 역</td>\n",
              "      <td>한국경제신문</td>\n",
              "      <td>14400</td>\n",
              "    </tr>\n",
              "    <tr>\n",
              "      <th>9</th>\n",
              "      <td>10</td>\n",
              "      <td>마법천자문 53: 결정을 내리다! 결단할 결</td>\n",
              "      <td>유대영/홍거북 그림/김창환 감수</td>\n",
              "      <td>아울북</td>\n",
              "      <td>12600</td>\n",
              "    </tr>\n",
              "    <tr>\n",
              "      <th>10</th>\n",
              "      <td>10</td>\n",
              "      <td>한 개의 기쁨이 천 개의 슬픔을 이긴다: 삶과 태도에 관하여</td>\n",
              "      <td>조우성</td>\n",
              "      <td>서삼독</td>\n",
              "      <td>13320</td>\n",
              "    </tr>\n",
              "    <tr>\n",
              "      <th>11</th>\n",
              "      <td>10</td>\n",
              "      <td>눈물 한 방울</td>\n",
              "      <td>이어령(李御寧)</td>\n",
              "      <td>김영사</td>\n",
              "      <td>14220</td>\n",
              "    </tr>\n",
              "    <tr>\n",
              "      <th>12</th>\n",
              "      <td>10</td>\n",
              "      <td>역행자</td>\n",
              "      <td>자청</td>\n",
              "      <td>웅진지식하우스</td>\n",
              "      <td>15750</td>\n",
              "    </tr>\n",
              "    <tr>\n",
              "      <th>13</th>\n",
              "      <td>14</td>\n",
              "      <td>예쁘게 말하는 네가 좋다</td>\n",
              "      <td>김범준</td>\n",
              "      <td>포레스트북스</td>\n",
              "      <td>14220</td>\n",
              "    </tr>\n",
              "    <tr>\n",
              "      <th>14</th>\n",
              "      <td>14</td>\n",
              "      <td>흔한남매 11</td>\n",
              "      <td>흔한남매, 백난도/유난희 그림/흔한컴퍼니 감수</td>\n",
              "      <td>미래엔아이세움</td>\n",
              "      <td>13050</td>\n",
              "    </tr>\n",
              "  </tbody>\n",
              "</table>\n",
              "</div>\n",
              "      <button class=\"colab-df-convert\" onclick=\"convertToInteractive('df-38d370e4-9655-41c9-b88e-e24edb13ae28')\"\n",
              "              title=\"Convert this dataframe to an interactive table.\"\n",
              "              style=\"display:none;\">\n",
              "        \n",
              "  <svg xmlns=\"http://www.w3.org/2000/svg\" height=\"24px\"viewBox=\"0 0 24 24\"\n",
              "       width=\"24px\">\n",
              "    <path d=\"M0 0h24v24H0V0z\" fill=\"none\"/>\n",
              "    <path d=\"M18.56 5.44l.94 2.06.94-2.06 2.06-.94-2.06-.94-.94-2.06-.94 2.06-2.06.94zm-11 1L8.5 8.5l.94-2.06 2.06-.94-2.06-.94L8.5 2.5l-.94 2.06-2.06.94zm10 10l.94 2.06.94-2.06 2.06-.94-2.06-.94-.94-2.06-.94 2.06-2.06.94z\"/><path d=\"M17.41 7.96l-1.37-1.37c-.4-.4-.92-.59-1.43-.59-.52 0-1.04.2-1.43.59L10.3 9.45l-7.72 7.72c-.78.78-.78 2.05 0 2.83L4 21.41c.39.39.9.59 1.41.59.51 0 1.02-.2 1.41-.59l7.78-7.78 2.81-2.81c.8-.78.8-2.07 0-2.86zM5.41 20L4 18.59l7.72-7.72 1.47 1.35L5.41 20z\"/>\n",
              "  </svg>\n",
              "      </button>\n",
              "      \n",
              "  <style>\n",
              "    .colab-df-container {\n",
              "      display:flex;\n",
              "      flex-wrap:wrap;\n",
              "      gap: 12px;\n",
              "    }\n",
              "\n",
              "    .colab-df-convert {\n",
              "      background-color: #E8F0FE;\n",
              "      border: none;\n",
              "      border-radius: 50%;\n",
              "      cursor: pointer;\n",
              "      display: none;\n",
              "      fill: #1967D2;\n",
              "      height: 32px;\n",
              "      padding: 0 0 0 0;\n",
              "      width: 32px;\n",
              "    }\n",
              "\n",
              "    .colab-df-convert:hover {\n",
              "      background-color: #E2EBFA;\n",
              "      box-shadow: 0px 1px 2px rgba(60, 64, 67, 0.3), 0px 1px 3px 1px rgba(60, 64, 67, 0.15);\n",
              "      fill: #174EA6;\n",
              "    }\n",
              "\n",
              "    [theme=dark] .colab-df-convert {\n",
              "      background-color: #3B4455;\n",
              "      fill: #D2E3FC;\n",
              "    }\n",
              "\n",
              "    [theme=dark] .colab-df-convert:hover {\n",
              "      background-color: #434B5C;\n",
              "      box-shadow: 0px 1px 3px 1px rgba(0, 0, 0, 0.15);\n",
              "      filter: drop-shadow(0px 1px 2px rgba(0, 0, 0, 0.3));\n",
              "      fill: #FFFFFF;\n",
              "    }\n",
              "  </style>\n",
              "\n",
              "      <script>\n",
              "        const buttonEl =\n",
              "          document.querySelector('#df-38d370e4-9655-41c9-b88e-e24edb13ae28 button.colab-df-convert');\n",
              "        buttonEl.style.display =\n",
              "          google.colab.kernel.accessAllowed ? 'block' : 'none';\n",
              "\n",
              "        async function convertToInteractive(key) {\n",
              "          const element = document.querySelector('#df-38d370e4-9655-41c9-b88e-e24edb13ae28');\n",
              "          const dataTable =\n",
              "            await google.colab.kernel.invokeFunction('convertToInteractive',\n",
              "                                                     [key], {});\n",
              "          if (!dataTable) return;\n",
              "\n",
              "          const docLinkHtml = 'Like what you see? Visit the ' +\n",
              "            '<a target=\"_blank\" href=https://colab.research.google.com/notebooks/data_table.ipynb>data table notebook</a>'\n",
              "            + ' to learn more about interactive tables.';\n",
              "          element.innerHTML = '';\n",
              "          dataTable['output_type'] = 'display_data';\n",
              "          await google.colab.output.renderOutput(dataTable, element);\n",
              "          const docLink = document.createElement('div');\n",
              "          docLink.innerHTML = docLinkHtml;\n",
              "          element.appendChild(docLink);\n",
              "        }\n",
              "      </script>\n",
              "    </div>\n",
              "  </div>\n",
              "  "
            ]
          },
          "metadata": {},
          "execution_count": 59
        }
      ]
    },
    {
      "cell_type": "code",
      "source": [
        "lines"
      ],
      "metadata": {
        "colab": {
          "base_uri": "https://localhost:8080/"
        },
        "id": "85r0q-oa8gik",
        "outputId": "c4c2fdaf-f331-4278-9e2a-aaa222df6466"
      },
      "execution_count": 53,
      "outputs": [
        {
          "output_type": "execute_result",
          "data": {
            "text/plain": [
              "[[14, '하얼빈', '김훈(金薰)', '문학동네', 14400],\n",
              " [14, '미래의 부를 위한 투자 공부', '신진상', '미디어숲', 16020],\n",
              " [14, '불편한 편의점 2', '김호연', '나무옆의자', 12600],\n",
              " [14, '계속 가보겠습니다', '임은정', '메디치미디어', 16200],\n",
              " [14, '불편한 편의점(40만부 기념 벚꽃 에디션)', '김호연', '나무옆의자', 12600],\n",
              " [14, '가불 선진국', '조국', '메디치미디어', 14400],\n",
              " [14, '헤어질 결심 각본', '정서경, 박찬욱', '을유문화사', 13500],\n",
              " [14, '파친코 1', '이민진/신승미 역', '인플루엔셜', 14220],\n",
              " [14, '아직 긴 인생이 남았습니다', '기시미 이치로(岸見一郞)/전경아 역', '한국경제신문', 14400],\n",
              " [14, '마법천자문 53: 결정을 내리다! 결단할 결', '유대영/홍거북 그림/김창환 감수', '아울북', 12600],\n",
              " [14, '한 개의 기쁨이 천 개의 슬픔을 이긴다: 삶과 태도에 관하여', '조우성', '서삼독', 13320],\n",
              " [14, '눈물 한 방울', '이어령(李御寧)', '김영사', 14220],\n",
              " [14, '역행자', '자청', '웅진지식하우스', 15750],\n",
              " [14, '예쁘게 말하는 네가 좋다', '김범준', '포레스트북스', 14220],\n",
              " [14, '흔한남매 11', '흔한남매, 백난도/유난희 그림/흔한컴퍼니 감수', '미래엔아이세움', 13050]]"
            ]
          },
          "metadata": {},
          "execution_count": 53
        }
      ]
    },
    {
      "cell_type": "code",
      "source": [
        ""
      ],
      "metadata": {
        "id": "zOZMHoSu8yVl"
      },
      "execution_count": null,
      "outputs": []
    }
  ]
}