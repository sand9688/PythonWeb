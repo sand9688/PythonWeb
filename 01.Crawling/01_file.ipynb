{
  "nbformat": 4,
  "nbformat_minor": 0,
  "metadata": {
    "colab": {
      "name": "01_file.ipynb",
      "provenance": []
    },
    "kernelspec": {
      "name": "python3",
      "display_name": "Python 3"
    },
    "language_info": {
      "name": "python"
    }
  },
  "cells": [
    {
      "cell_type": "markdown",
      "source": [
        "# HTML 파일 열어서 원하는 정보 가져오기\n"
      ],
      "metadata": {
        "id": "YrWGW0clkq5Q"
      }
    },
    {
      "cell_type": "code",
      "execution_count": 2,
      "metadata": {
        "id": "eFcMkoSpkWt4"
      },
      "outputs": [],
      "source": [
        "from bs4 import BeautifulSoup\n",
        "with open('example.html') as f:\n",
        "  soup = BeautifulSoup(f,'html.parser')"
      ]
    },
    {
      "cell_type": "markdown",
      "source": [
        "### 1. 태그 정보: find(),find_all()"
      ],
      "metadata": {
        "id": "pGEcBIgJqI0e"
      }
    },
    {
      "cell_type": "code",
      "source": [
        "#tag\n",
        "first_div =soup.find('div')\n",
        "first_div"
      ],
      "metadata": {
        "colab": {
          "base_uri": "https://localhost:8080/"
        },
        "id": "xOVpM2LslGyk",
        "outputId": "c111b524-7a62-4cfe-b55d-95a1fc731d0b"
      },
      "execution_count": 7,
      "outputs": [
        {
          "output_type": "execute_result",
          "data": {
            "text/plain": [
              "<div>\n",
              "<p>a</p>\n",
              "<p>b</p>\n",
              "<p>c</p>\n",
              "</div>"
            ]
          },
          "metadata": {},
          "execution_count": 7
        }
      ]
    },
    {
      "cell_type": "code",
      "source": [
        "#해당되는 태그를 모두 가져오기\n",
        "ps= first_div.find_all('p')\n",
        "ps"
      ],
      "metadata": {
        "colab": {
          "base_uri": "https://localhost:8080/"
        },
        "id": "zXhX6yrOpkpv",
        "outputId": "39828a36-660c-466f-e5dc-941c7124b707"
      },
      "execution_count": 8,
      "outputs": [
        {
          "output_type": "execute_result",
          "data": {
            "text/plain": [
              "[<p>a</p>, <p>b</p>, <p>c</p>]"
            ]
          },
          "metadata": {},
          "execution_count": 8
        }
      ]
    },
    {
      "cell_type": "code",
      "source": [
        "for ptag in ps:\n",
        "  print(ptag)"
      ],
      "metadata": {
        "colab": {
          "base_uri": "https://localhost:8080/"
        },
        "id": "C_OvakF0p3Gu",
        "outputId": "2a1feb10-ec6a-41d6-fa86-488d47f358b3"
      },
      "execution_count": 9,
      "outputs": [
        {
          "output_type": "stream",
          "name": "stdout",
          "text": [
            "<p>a</p>\n",
            "<p>b</p>\n",
            "<p>c</p>\n"
          ]
        }
      ]
    },
    {
      "cell_type": "code",
      "source": [
        "ps[1]"
      ],
      "metadata": {
        "colab": {
          "base_uri": "https://localhost:8080/"
        },
        "id": "I5Cs3sVep_83",
        "outputId": "1e6214dd-5a58-44ef-8cc5-17e95426b56c"
      },
      "execution_count": 10,
      "outputs": [
        {
          "output_type": "execute_result",
          "data": {
            "text/plain": [
              "<p>b</p>"
            ]
          },
          "metadata": {},
          "execution_count": 10
        }
      ]
    },
    {
      "cell_type": "markdown",
      "source": [
        "###2. CSS Selector : select_one(),select()"
      ],
      "metadata": {
        "id": "ObnS5JSfqSrX"
      }
    },
    {
      "cell_type": "code",
      "source": [
        "#class  /Class 며이 ex_class 태그의 정보를 가져오기\n",
        "second_div=soup.select_one('.ex_class')\n",
        "second_div"
      ],
      "metadata": {
        "colab": {
          "base_uri": "https://localhost:8080/"
        },
        "id": "T2ATs9T3lkNf",
        "outputId": "4bdeeeab-b2b6-458f-bde9-95db5df53735"
      },
      "execution_count": 11,
      "outputs": [
        {
          "output_type": "execute_result",
          "data": {
            "text/plain": [
              "<div class=\"ex_class\">\n",
              "<p>1</p>\n",
              "<p>2</p>\n",
              "<p>3</p>\n",
              "</div>"
            ]
          },
          "metadata": {},
          "execution_count": 11
        }
      ]
    },
    {
      "cell_type": "code",
      "source": [
        "#id 값이 ex_id인 태그이 정보를 가져오기\n",
        "third_div=soup.select_one('#ex_id')\n",
        "third_div"
      ],
      "metadata": {
        "colab": {
          "base_uri": "https://localhost:8080/"
        },
        "id": "VBswjMohllJb",
        "outputId": "2b7ada0a-6b4a-4dfd-99cc-f7d25a319a84"
      },
      "execution_count": 12,
      "outputs": [
        {
          "output_type": "execute_result",
          "data": {
            "text/plain": [
              "<div id=\"ex_id\">\n",
              "<p>x</p>\n",
              "<p>y</p>\n",
              "<p>z</p>\n",
              "</div>"
            ]
          },
          "metadata": {},
          "execution_count": 12
        }
      ]
    },
    {
      "cell_type": "code",
      "source": [
        "#div 태그를 모두 가져오기\n",
        "all_divs = soup.select('div')\n",
        "len(all_divs)"
      ],
      "metadata": {
        "colab": {
          "base_uri": "https://localhost:8080/"
        },
        "id": "IUavPPcjllrQ",
        "outputId": "c063e294-e6e5-4c3b-860b-2f4260ea5c26"
      },
      "execution_count": 15,
      "outputs": [
        {
          "output_type": "execute_result",
          "data": {
            "text/plain": [
              "3"
            ]
          },
          "metadata": {},
          "execution_count": 15
        }
      ]
    },
    {
      "cell_type": "code",
      "source": [
        "# tag1 tag2  => 부자관계\n",
        "# tag1, tag2 => OR 관계\n",
        "# tag > tag => 자손 관계"
      ],
      "metadata": {
        "id": "0q3FAZNKrb0D"
      },
      "execution_count": 16,
      "outputs": []
    },
    {
      "cell_type": "code",
      "source": [
        "# 모든 p 태그\n",
        "all_ps = soup.find_all('p')\n",
        "len(all_ps) "
      ],
      "metadata": {
        "colab": {
          "base_uri": "https://localhost:8080/"
        },
        "id": "sC_TyI2xsF4r",
        "outputId": "5de13aa0-d6fe-44b8-df66-5a083deb953b"
      },
      "execution_count": 17,
      "outputs": [
        {
          "output_type": "execute_result",
          "data": {
            "text/plain": [
              "11"
            ]
          },
          "metadata": {},
          "execution_count": 17
        }
      ]
    },
    {
      "cell_type": "code",
      "source": [
        "#div의 자식인 p 태그\n",
        "div_ps=soup.select('div p')\n",
        "len(div_ps)"
      ],
      "metadata": {
        "colab": {
          "base_uri": "https://localhost:8080/"
        },
        "id": "N909CFfWsVf2",
        "outputId": "1006d40c-c2ef-4347-af5f-82ac4b9de519"
      },
      "execution_count": 18,
      "outputs": [
        {
          "output_type": "execute_result",
          "data": {
            "text/plain": [
              "9"
            ]
          },
          "metadata": {},
          "execution_count": 18
        }
      ]
    },
    {
      "cell_type": "markdown",
      "source": [
        "###3.결과\n"
      ],
      "metadata": {
        "id": "R8IKIiVHsuRf"
      }
    },
    {
      "cell_type": "code",
      "source": [
        "#태그 안의 내용\n",
        "h1_info=soup.find('h1').get_text()\n",
        "h1_info"
      ],
      "metadata": {
        "colab": {
          "base_uri": "https://localhost:8080/",
          "height": 36
        },
        "id": "ixLlSCJgsjc8",
        "outputId": "e284f8c5-82c1-42ea-fd2b-c1b80673c740"
      },
      "execution_count": 19,
      "outputs": [
        {
          "output_type": "execute_result",
          "data": {
            "text/plain": [
              "'This is a heading'"
            ],
            "application/vnd.google.colaboratory.intrinsic+json": {
              "type": "string"
            }
          },
          "metadata": {},
          "execution_count": 19
        }
      ]
    },
    {
      "cell_type": "code",
      "source": [
        "soup.find('h1').string"
      ],
      "metadata": {
        "colab": {
          "base_uri": "https://localhost:8080/",
          "height": 36
        },
        "id": "owFULRHmtDXQ",
        "outputId": "4b9d388d-935d-486a-9d3a-fbd67fb8227d"
      },
      "execution_count": 20,
      "outputs": [
        {
          "output_type": "execute_result",
          "data": {
            "text/plain": [
              "'This is a heading'"
            ],
            "application/vnd.google.colaboratory.intrinsic+json": {
              "type": "string"
            }
          },
          "metadata": {},
          "execution_count": 20
        }
      ]
    },
    {
      "cell_type": "code",
      "source": [
        "second_div.string"
      ],
      "metadata": {
        "id": "EuB7pJ0MtInx"
      },
      "execution_count": 21,
      "outputs": []
    },
    {
      "cell_type": "code",
      "source": [
        "second_div.get_text()"
      ],
      "metadata": {
        "colab": {
          "base_uri": "https://localhost:8080/",
          "height": 36
        },
        "id": "5MUl7PhQtUbB",
        "outputId": "6fb9cc7e-bfce-46ca-da58-2540884042ad"
      },
      "execution_count": 22,
      "outputs": [
        {
          "output_type": "execute_result",
          "data": {
            "text/plain": [
              "'\\n1\\n2\\n3\\n'"
            ],
            "application/vnd.google.colaboratory.intrinsic+json": {
              "type": "string"
            }
          },
          "metadata": {},
          "execution_count": 22
        }
      ]
    },
    {
      "cell_type": "code",
      "source": [
        "soup.find('a').get_text()"
      ],
      "metadata": {
        "colab": {
          "base_uri": "https://localhost:8080/",
          "height": 36
        },
        "id": "VwrvJ5tEtZkT",
        "outputId": "c2910a8e-3ecc-47b8-9f80-c361e83c18d3"
      },
      "execution_count": 23,
      "outputs": [
        {
          "output_type": "execute_result",
          "data": {
            "text/plain": [
              "'Naver'"
            ],
            "application/vnd.google.colaboratory.intrinsic+json": {
              "type": "string"
            }
          },
          "metadata": {},
          "execution_count": 23
        }
      ]
    },
    {
      "cell_type": "code",
      "source": [
        "soup.find('a')['href']"
      ],
      "metadata": {
        "colab": {
          "base_uri": "https://localhost:8080/",
          "height": 36
        },
        "id": "o299uZ6AtpRN",
        "outputId": "24620f27-6337-4648-ea68-a2b45329719f"
      },
      "execution_count": 24,
      "outputs": [
        {
          "output_type": "execute_result",
          "data": {
            "text/plain": [
              "'www.naver.com'"
            ],
            "application/vnd.google.colaboratory.intrinsic+json": {
              "type": "string"
            }
          },
          "metadata": {},
          "execution_count": 24
        }
      ]
    },
    {
      "cell_type": "code",
      "source": [
        ""
      ],
      "metadata": {
        "id": "4yRIiVaEtxFg"
      },
      "execution_count": null,
      "outputs": []
    }
  ]
}