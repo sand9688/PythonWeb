{
  "nbformat": 4,
  "nbformat_minor": 0,
  "metadata": {
    "colab": {
      "name": "03.소방청.ipynb",
      "provenance": [],
      "collapsed_sections": []
    },
    "kernelspec": {
      "name": "python3",
      "display_name": "Python 3"
    },
    "language_info": {
      "name": "python"
    }
  },
  "cells": [
    {
      "cell_type": "code",
      "source": [
        "!apt-get update > /dev/null 2>&1\n",
        "!pip install selenium > /dev/null 2>&1\n",
        "!apt install chromium-chromedriver > /dev/null 2>&1"
      ],
      "metadata": {
        "id": "BBvUVXQ9Yuo2"
      },
      "execution_count": 6,
      "outputs": []
    },
    {
      "cell_type": "code",
      "execution_count": 7,
      "metadata": {
        "id": "3JH7oC-qV1XE"
      },
      "outputs": [],
      "source": [
        "import time\n",
        "from selenium import webdriver\n",
        "from selenium.webdriver.common.keys import Keys\n",
        "from selenium.webdriver.common.by import By\n",
        "import pandas as pd\n",
        "from bs4 import BeautifulSoup"
      ]
    },
    {
      "cell_type": "code",
      "source": [
        "options = webdriver.ChromeOptions()\n",
        "options.add_argument('--headless') # 화면없이 실행\n",
        "options.add_argument('--no-sandbox')\n",
        "options.add_argument(\"--single-process\")\n",
        "options.add_argument(\"--disable-dev-shm-usage\")\n",
        "driver = webdriver.Chrome('chromedriver', options=options)"
      ],
      "metadata": {
        "id": "WI403Di8ZSpD"
      },
      "execution_count": 56,
      "outputs": []
    },
    {
      "cell_type": "code",
      "source": [
        "url='https://www.nfa.go.kr/nfa/introduce/status/firestationidfo/?searchDistance=10&searchMode=distance&myX=35.2178044&myY=126.8357822&searchKeyword='\n",
        "driver.get(url)"
      ],
      "metadata": {
        "id": "IMed5G7TYmxg"
      },
      "execution_count": 24,
      "outputs": []
    },
    {
      "cell_type": "code",
      "source": [
        "#입력창에 광주를 입력하고 검색 버튼을 누르는 동작\n",
        "driver.find_element(By.ID,'searchKeyword').send_keys('광주')\n",
        "driver.find_element(By.ID,'fsSearchBtn').click()"
      ],
      "metadata": {
        "id": "eYE-cXMsZe3A"
      },
      "execution_count": 25,
      "outputs": []
    },
    {
      "cell_type": "code",
      "source": [
        "### 이동 후에는 BeautifulSoup 이용하여 정보를 회득\n",
        "soup = BeautifulSoup(driver.page_source,'html.parser')\n",
        "lis = soup.select('.stations-list > li')\n",
        "len(lis)"
      ],
      "metadata": {
        "colab": {
          "base_uri": "https://localhost:8080/"
        },
        "id": "_zDVjK8JajtQ",
        "outputId": "9e2a6b95-d21b-4eba-da02-a4503157e0b5"
      },
      "execution_count": 26,
      "outputs": [
        {
          "output_type": "execute_result",
          "data": {
            "text/plain": [
              "10"
            ]
          },
          "metadata": {},
          "execution_count": 26
        }
      ]
    },
    {
      "cell_type": "code",
      "source": [
        "li =lis[0]\n",
        "name = li.select_one('.title').get_text().strip()\n",
        "name"
      ],
      "metadata": {
        "colab": {
          "base_uri": "https://localhost:8080/",
          "height": 36
        },
        "id": "Drvxn24acUwT",
        "outputId": "4d3f618b-c6b2-42e9-cc6b-e9a4eef5f7cd"
      },
      "execution_count": 27,
      "outputs": [
        {
          "output_type": "execute_result",
          "data": {
            "text/plain": [
              "'광산소방서_광주-평동-119 안전센터'"
            ],
            "application/vnd.google.colaboratory.intrinsic+json": {
              "type": "string"
            }
          },
          "metadata": {},
          "execution_count": 27
        }
      ]
    },
    {
      "cell_type": "code",
      "source": [
        "addr = li.find('address').string.strip()\n",
        "addr"
      ],
      "metadata": {
        "colab": {
          "base_uri": "https://localhost:8080/",
          "height": 36
        },
        "id": "K3xenYgPd3Ok",
        "outputId": "abe2662d-08b5-45cc-c7e3-bd979d9523d4"
      },
      "execution_count": 29,
      "outputs": [
        {
          "output_type": "execute_result",
          "data": {
            "text/plain": [
              "'광주광역시 광산구 월전동 1251'"
            ],
            "application/vnd.google.colaboratory.intrinsic+json": {
              "type": "string"
            }
          },
          "metadata": {},
          "execution_count": 29
        }
      ]
    },
    {
      "cell_type": "code",
      "source": [
        "tel = li.select_one('.tel').get_text().strip()\n",
        "tel"
      ],
      "metadata": {
        "colab": {
          "base_uri": "https://localhost:8080/",
          "height": 36
        },
        "id": "4_9_Kr7FdztF",
        "outputId": "1b9a509d-fff0-45c2-8b8a-416ff56cd832"
      },
      "execution_count": 30,
      "outputs": [
        {
          "output_type": "execute_result",
          "data": {
            "text/plain": [
              "'전화공사중'"
            ],
            "application/vnd.google.colaboratory.intrinsic+json": {
              "type": "string"
            }
          },
          "metadata": {},
          "execution_count": 30
        }
      ]
    },
    {
      "cell_type": "code",
      "source": [
        "lines= []\n",
        "for li in lis:\n",
        "  name = li.select_one('.title').get_text().strip()\n",
        "  addr = li.find('address').string.strip()\n",
        "  tel = li.select_one('.tel').get_text().strip()\n",
        "  lines.append([name,addr,tel])\n"
      ],
      "metadata": {
        "id": "XDQ9eG42eNbv"
      },
      "execution_count": 31,
      "outputs": []
    },
    {
      "cell_type": "code",
      "source": [
        "driver.find_element(By.XPATH,'//*[@id=\"listForm\"]/div/section/ul/li[1]/div/div/ul/li[2]/a').click()"
      ],
      "metadata": {
        "id": "9MIq8FoBefgB"
      },
      "execution_count": 32,
      "outputs": []
    },
    {
      "cell_type": "code",
      "source": [
        "soup = BeautifulSoup(driver.page_source,'html.parser')\n",
        "lis = soup.select('.stations-list > li')\n",
        "len(lis)"
      ],
      "metadata": {
        "colab": {
          "base_uri": "https://localhost:8080/"
        },
        "id": "GB2cb30HfS75",
        "outputId": "22cd220c-dc1b-4b68-d453-157c0de82f11"
      },
      "execution_count": 33,
      "outputs": [
        {
          "output_type": "execute_result",
          "data": {
            "text/plain": [
              "10"
            ]
          },
          "metadata": {},
          "execution_count": 33
        }
      ]
    },
    {
      "cell_type": "code",
      "source": [
        "for li in lis:\n",
        "  name = li.select_one('.title').get_text().strip()\n",
        "  addr = li.find('address').string.strip()\n",
        "  tel = li.select_one('.tel').get_text().strip()\n",
        "  lines.append([name,addr,tel])"
      ],
      "metadata": {
        "id": "JrIiEViffYem"
      },
      "execution_count": null,
      "outputs": []
    },
    {
      "cell_type": "markdown",
      "source": [
        "다음페이지"
      ],
      "metadata": {
        "id": "mJEvm_89fziM"
      }
    },
    {
      "cell_type": "code",
      "source": [
        "driver.find_element(By.CSS_SELECTOR,'.next_page').click()"
      ],
      "metadata": {
        "id": "LTJg3ayPfiSA"
      },
      "execution_count": 34,
      "outputs": []
    },
    {
      "cell_type": "markdown",
      "source": [
        "전체"
      ],
      "metadata": {
        "id": "BU2gvPtWgdP2"
      }
    },
    {
      "cell_type": "code",
      "source": [
        "# 검색결과 건수 획득\n",
        "strongs=soup.select('.stations-local-after > p > strong')\n",
        "strongs[1].get_text()"
      ],
      "metadata": {
        "colab": {
          "base_uri": "https://localhost:8080/",
          "height": 36
        },
        "id": "TWb3MYH7f-_q",
        "outputId": "bcabdf58-cd6c-469e-d981-95345c813867"
      },
      "execution_count": 36,
      "outputs": [
        {
          "output_type": "execute_result",
          "data": {
            "text/plain": [
              "'35건'"
            ],
            "application/vnd.google.colaboratory.intrinsic+json": {
              "type": "string"
            }
          },
          "metadata": {},
          "execution_count": 36
        }
      ]
    },
    {
      "cell_type": "code",
      "source": [
        "count = int(strongs[1].get_text().replace('건','').strip())\n",
        "count"
      ],
      "metadata": {
        "colab": {
          "base_uri": "https://localhost:8080/"
        },
        "id": "7rP4nnKxg64d",
        "outputId": "37e251c2-854e-45c0-b752-94cf35f82fc3"
      },
      "execution_count": 38,
      "outputs": [
        {
          "output_type": "execute_result",
          "data": {
            "text/plain": [
              "35"
            ]
          },
          "metadata": {},
          "execution_count": 38
        }
      ]
    },
    {
      "cell_type": "code",
      "source": [
        "import math \n",
        "count = math.ceil(count/10)\n",
        "count"
      ],
      "metadata": {
        "colab": {
          "base_uri": "https://localhost:8080/"
        },
        "id": "Gd6WuXwhje_a",
        "outputId": "fbc9d08d-f887-49c9-d3ec-e8c47f54392b"
      },
      "execution_count": 39,
      "outputs": [
        {
          "output_type": "execute_result",
          "data": {
            "text/plain": [
              "4"
            ]
          },
          "metadata": {},
          "execution_count": 39
        }
      ]
    },
    {
      "cell_type": "markdown",
      "source": [
        "최종코드"
      ],
      "metadata": {
        "id": "mViFrgJem0v6"
      }
    },
    {
      "cell_type": "code",
      "source": [
        "driver.get(url)\n",
        "time.sleep(1)\n",
        "driver.find_element(By.ID,'searchKeyword').send_keys('광주광역시')\n",
        "driver.find_element(By.ID,'fsSearchBtn').click()"
      ],
      "metadata": {
        "id": "Fnifs2sJkLuf"
      },
      "execution_count": 57,
      "outputs": []
    },
    {
      "cell_type": "code",
      "source": [
        "strongs=soup.select('.stations-local-after > p > strong')\n",
        "count = int(strongs[1].get_text().replace('건','').strip())\n",
        "count = math.ceil(count/10)"
      ],
      "metadata": {
        "id": "1nZynjQCmo7A"
      },
      "execution_count": 58,
      "outputs": []
    },
    {
      "cell_type": "code",
      "source": [
        "lines = []\n",
        "for i in range(count):\n",
        "  if i >= i and i %2==0:\n",
        "    driver.find_element(By.CSS_SELECTOR,'.next_page').click()\n",
        "    time.sleep(2)\n",
        "  if i >= i and i %2==1:\n",
        "    driver.find_element(By.XPATH,'//*[@id=\"listForm\"]/div/section/ul/li[1]/div/div/ul/li[2]/a').click()\n",
        "    time.sleep(2)\n",
        "  soup = BeautifulSoup(driver.page_source,'html.parser')\n",
        "  lis = soup.select('.stations-list > li')\n",
        "  for li in lis:\n",
        "    name = li.select_one('.title').get_text().strip()\n",
        "    addr = li.find('address').string.strip()\n",
        "    tel = li.select_one('.tel').get_text().strip()\n",
        "    lines.append([name,addr,tel])"
      ],
      "metadata": {
        "id": "E91MBeyBjs77"
      },
      "execution_count": 59,
      "outputs": []
    },
    {
      "cell_type": "code",
      "source": [
        "len(lines)"
      ],
      "metadata": {
        "colab": {
          "base_uri": "https://localhost:8080/"
        },
        "id": "jSKCnYlYlWbN",
        "outputId": "a221d853-ef04-496d-ad62-85fe2c7fec45"
      },
      "execution_count": 60,
      "outputs": [
        {
          "output_type": "execute_result",
          "data": {
            "text/plain": [
              "28"
            ]
          },
          "metadata": {},
          "execution_count": 60
        }
      ]
    },
    {
      "cell_type": "code",
      "source": [
        "driver.close()"
      ],
      "metadata": {
        "id": "QJPWaqucllkS"
      },
      "execution_count": 61,
      "outputs": []
    },
    {
      "cell_type": "code",
      "source": [
        "df = pd.DataFrame(lines, columns=['관서명','주소','전화번호'])\n",
        "df.tail()"
      ],
      "metadata": {
        "colab": {
          "base_uri": "https://localhost:8080/",
          "height": 206
        },
        "id": "ne6QW5dLlpac",
        "outputId": "727780a9-9905-4b25-b94f-066e53561e04"
      },
      "execution_count": 62,
      "outputs": [
        {
          "output_type": "execute_result",
          "data": {
            "text/plain": [
              "      관서명                         주소          전화번호\n",
              "23  광산소방서  광주광역시 광산구 하남산단1번로 13(하남동)  062-613-8813\n",
              "24  남부소방서   광주광역시 남구 송암로58번길 13(송하동)  062-613-8613\n",
              "25  동부소방서      광주광역시 동구 제봉로 210(대인동)  062-613-8413\n",
              "26  북부소방서      광주광역시 북구 서하로 290(오치동)  062-613-8713\n",
              "27  서부소방서      광주광역시 서구 화운로 197(화정동)  062-613-8513"
            ],
            "text/html": [
              "\n",
              "  <div id=\"df-12d91d36-2974-458c-9e23-ae3ea2a97f04\">\n",
              "    <div class=\"colab-df-container\">\n",
              "      <div>\n",
              "<style scoped>\n",
              "    .dataframe tbody tr th:only-of-type {\n",
              "        vertical-align: middle;\n",
              "    }\n",
              "\n",
              "    .dataframe tbody tr th {\n",
              "        vertical-align: top;\n",
              "    }\n",
              "\n",
              "    .dataframe thead th {\n",
              "        text-align: right;\n",
              "    }\n",
              "</style>\n",
              "<table border=\"1\" class=\"dataframe\">\n",
              "  <thead>\n",
              "    <tr style=\"text-align: right;\">\n",
              "      <th></th>\n",
              "      <th>관서명</th>\n",
              "      <th>주소</th>\n",
              "      <th>전화번호</th>\n",
              "    </tr>\n",
              "  </thead>\n",
              "  <tbody>\n",
              "    <tr>\n",
              "      <th>23</th>\n",
              "      <td>광산소방서</td>\n",
              "      <td>광주광역시 광산구 하남산단1번로 13(하남동)</td>\n",
              "      <td>062-613-8813</td>\n",
              "    </tr>\n",
              "    <tr>\n",
              "      <th>24</th>\n",
              "      <td>남부소방서</td>\n",
              "      <td>광주광역시 남구 송암로58번길 13(송하동)</td>\n",
              "      <td>062-613-8613</td>\n",
              "    </tr>\n",
              "    <tr>\n",
              "      <th>25</th>\n",
              "      <td>동부소방서</td>\n",
              "      <td>광주광역시 동구 제봉로 210(대인동)</td>\n",
              "      <td>062-613-8413</td>\n",
              "    </tr>\n",
              "    <tr>\n",
              "      <th>26</th>\n",
              "      <td>북부소방서</td>\n",
              "      <td>광주광역시 북구 서하로 290(오치동)</td>\n",
              "      <td>062-613-8713</td>\n",
              "    </tr>\n",
              "    <tr>\n",
              "      <th>27</th>\n",
              "      <td>서부소방서</td>\n",
              "      <td>광주광역시 서구 화운로 197(화정동)</td>\n",
              "      <td>062-613-8513</td>\n",
              "    </tr>\n",
              "  </tbody>\n",
              "</table>\n",
              "</div>\n",
              "      <button class=\"colab-df-convert\" onclick=\"convertToInteractive('df-12d91d36-2974-458c-9e23-ae3ea2a97f04')\"\n",
              "              title=\"Convert this dataframe to an interactive table.\"\n",
              "              style=\"display:none;\">\n",
              "        \n",
              "  <svg xmlns=\"http://www.w3.org/2000/svg\" height=\"24px\"viewBox=\"0 0 24 24\"\n",
              "       width=\"24px\">\n",
              "    <path d=\"M0 0h24v24H0V0z\" fill=\"none\"/>\n",
              "    <path d=\"M18.56 5.44l.94 2.06.94-2.06 2.06-.94-2.06-.94-.94-2.06-.94 2.06-2.06.94zm-11 1L8.5 8.5l.94-2.06 2.06-.94-2.06-.94L8.5 2.5l-.94 2.06-2.06.94zm10 10l.94 2.06.94-2.06 2.06-.94-2.06-.94-.94-2.06-.94 2.06-2.06.94z\"/><path d=\"M17.41 7.96l-1.37-1.37c-.4-.4-.92-.59-1.43-.59-.52 0-1.04.2-1.43.59L10.3 9.45l-7.72 7.72c-.78.78-.78 2.05 0 2.83L4 21.41c.39.39.9.59 1.41.59.51 0 1.02-.2 1.41-.59l7.78-7.78 2.81-2.81c.8-.78.8-2.07 0-2.86zM5.41 20L4 18.59l7.72-7.72 1.47 1.35L5.41 20z\"/>\n",
              "  </svg>\n",
              "      </button>\n",
              "      \n",
              "  <style>\n",
              "    .colab-df-container {\n",
              "      display:flex;\n",
              "      flex-wrap:wrap;\n",
              "      gap: 12px;\n",
              "    }\n",
              "\n",
              "    .colab-df-convert {\n",
              "      background-color: #E8F0FE;\n",
              "      border: none;\n",
              "      border-radius: 50%;\n",
              "      cursor: pointer;\n",
              "      display: none;\n",
              "      fill: #1967D2;\n",
              "      height: 32px;\n",
              "      padding: 0 0 0 0;\n",
              "      width: 32px;\n",
              "    }\n",
              "\n",
              "    .colab-df-convert:hover {\n",
              "      background-color: #E2EBFA;\n",
              "      box-shadow: 0px 1px 2px rgba(60, 64, 67, 0.3), 0px 1px 3px 1px rgba(60, 64, 67, 0.15);\n",
              "      fill: #174EA6;\n",
              "    }\n",
              "\n",
              "    [theme=dark] .colab-df-convert {\n",
              "      background-color: #3B4455;\n",
              "      fill: #D2E3FC;\n",
              "    }\n",
              "\n",
              "    [theme=dark] .colab-df-convert:hover {\n",
              "      background-color: #434B5C;\n",
              "      box-shadow: 0px 1px 3px 1px rgba(0, 0, 0, 0.15);\n",
              "      filter: drop-shadow(0px 1px 2px rgba(0, 0, 0, 0.3));\n",
              "      fill: #FFFFFF;\n",
              "    }\n",
              "  </style>\n",
              "\n",
              "      <script>\n",
              "        const buttonEl =\n",
              "          document.querySelector('#df-12d91d36-2974-458c-9e23-ae3ea2a97f04 button.colab-df-convert');\n",
              "        buttonEl.style.display =\n",
              "          google.colab.kernel.accessAllowed ? 'block' : 'none';\n",
              "\n",
              "        async function convertToInteractive(key) {\n",
              "          const element = document.querySelector('#df-12d91d36-2974-458c-9e23-ae3ea2a97f04');\n",
              "          const dataTable =\n",
              "            await google.colab.kernel.invokeFunction('convertToInteractive',\n",
              "                                                     [key], {});\n",
              "          if (!dataTable) return;\n",
              "\n",
              "          const docLinkHtml = 'Like what you see? Visit the ' +\n",
              "            '<a target=\"_blank\" href=https://colab.research.google.com/notebooks/data_table.ipynb>data table notebook</a>'\n",
              "            + ' to learn more about interactive tables.';\n",
              "          element.innerHTML = '';\n",
              "          dataTable['output_type'] = 'display_data';\n",
              "          await google.colab.output.renderOutput(dataTable, element);\n",
              "          const docLink = document.createElement('div');\n",
              "          docLink.innerHTML = docLinkHtml;\n",
              "          element.appendChild(docLink);\n",
              "        }\n",
              "      </script>\n",
              "    </div>\n",
              "  </div>\n",
              "  "
            ]
          },
          "metadata": {},
          "execution_count": 62
        }
      ]
    },
    {
      "cell_type": "code",
      "source": [
        ""
      ],
      "metadata": {
        "id": "WTnwkOwbmEIJ"
      },
      "execution_count": null,
      "outputs": []
    }
  ]
}